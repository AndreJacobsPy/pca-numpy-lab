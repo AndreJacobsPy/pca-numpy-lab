{
 "cells": [
  {
   "cell_type": "markdown",
   "metadata": {},
   "source": [
    "# Performing Principal Component Analysis (PCA) - Lab\n",
    "\n",
    "## Introduction\n",
    "\n",
    "Now that you have a high-level overview of PCA, as well as some of the details of the algorithm itself, it's time to practice implementing PCA on your own using the NumPy package. \n",
    "\n",
    "## Objectives\n",
    "\n",
    "You will be able to:\n",
    "    \n",
    "* Implement PCA from scratch using NumPy"
   ]
  },
  {
   "cell_type": "markdown",
   "metadata": {},
   "source": [
    "## Import the data\n",
    "\n",
    "- Import the data stored in the file `'foodusa.csv'` (set `index_col=0`)\n",
    "- Print the first five rows of the DataFrame "
   ]
  },
  {
   "cell_type": "code",
   "metadata": {
    "ExecuteTime": {
     "end_time": "2024-09-05T17:12:38.671663Z",
     "start_time": "2024-09-05T17:12:38.662737Z"
    }
   },
   "source": [
    "import pandas as pd\n",
    "\n",
    "data = pd.read_csv(\"foodusa.csv\", index_col=0)\n",
    "data.shape"
   ],
   "outputs": [
    {
     "data": {
      "text/plain": [
       "(23, 5)"
      ]
     },
     "execution_count": 8,
     "metadata": {},
     "output_type": "execute_result"
    }
   ],
   "execution_count": 8
  },
  {
   "cell_type": "markdown",
   "metadata": {},
   "source": [
    "## Normalize the data\n",
    "\n",
    "Next, normalize your data by subtracting the mean from each of the columns."
   ]
  },
  {
   "cell_type": "code",
   "metadata": {
    "ExecuteTime": {
     "end_time": "2024-09-05T17:09:42.056995Z",
     "start_time": "2024-09-05T17:09:42.034075Z"
    }
   },
   "source": [
    "data = data - data.mean()\n",
    "data.head()"
   ],
   "outputs": [
    {
     "data": {
      "text/plain": [
       "              Bread    Burger       Milk    Oranges   Tomatoes\n",
       "City                                                          \n",
       "ATLANTA   -0.791304  2.643478  11.604348 -22.891304  -7.165217\n",
       "BALTIMORE  1.208696 -0.856522   5.204348 -28.391304   4.534783\n",
       "BOSTON     4.408696  8.943478  -0.895652   1.008696  10.834783\n",
       "BUFFALO   -2.491304 -5.256522   3.004348  15.408696   2.434783\n",
       "CHICAGO    1.408696 -5.156522   0.404348   2.908696   2.434783"
      ],
      "text/html": [
       "<div>\n",
       "<style scoped>\n",
       "    .dataframe tbody tr th:only-of-type {\n",
       "        vertical-align: middle;\n",
       "    }\n",
       "\n",
       "    .dataframe tbody tr th {\n",
       "        vertical-align: top;\n",
       "    }\n",
       "\n",
       "    .dataframe thead th {\n",
       "        text-align: right;\n",
       "    }\n",
       "</style>\n",
       "<table border=\"1\" class=\"dataframe\">\n",
       "  <thead>\n",
       "    <tr style=\"text-align: right;\">\n",
       "      <th></th>\n",
       "      <th>Bread</th>\n",
       "      <th>Burger</th>\n",
       "      <th>Milk</th>\n",
       "      <th>Oranges</th>\n",
       "      <th>Tomatoes</th>\n",
       "    </tr>\n",
       "    <tr>\n",
       "      <th>City</th>\n",
       "      <th></th>\n",
       "      <th></th>\n",
       "      <th></th>\n",
       "      <th></th>\n",
       "      <th></th>\n",
       "    </tr>\n",
       "  </thead>\n",
       "  <tbody>\n",
       "    <tr>\n",
       "      <th>ATLANTA</th>\n",
       "      <td>-0.791304</td>\n",
       "      <td>2.643478</td>\n",
       "      <td>11.604348</td>\n",
       "      <td>-22.891304</td>\n",
       "      <td>-7.165217</td>\n",
       "    </tr>\n",
       "    <tr>\n",
       "      <th>BALTIMORE</th>\n",
       "      <td>1.208696</td>\n",
       "      <td>-0.856522</td>\n",
       "      <td>5.204348</td>\n",
       "      <td>-28.391304</td>\n",
       "      <td>4.534783</td>\n",
       "    </tr>\n",
       "    <tr>\n",
       "      <th>BOSTON</th>\n",
       "      <td>4.408696</td>\n",
       "      <td>8.943478</td>\n",
       "      <td>-0.895652</td>\n",
       "      <td>1.008696</td>\n",
       "      <td>10.834783</td>\n",
       "    </tr>\n",
       "    <tr>\n",
       "      <th>BUFFALO</th>\n",
       "      <td>-2.491304</td>\n",
       "      <td>-5.256522</td>\n",
       "      <td>3.004348</td>\n",
       "      <td>15.408696</td>\n",
       "      <td>2.434783</td>\n",
       "    </tr>\n",
       "    <tr>\n",
       "      <th>CHICAGO</th>\n",
       "      <td>1.408696</td>\n",
       "      <td>-5.156522</td>\n",
       "      <td>0.404348</td>\n",
       "      <td>2.908696</td>\n",
       "      <td>2.434783</td>\n",
       "    </tr>\n",
       "  </tbody>\n",
       "</table>\n",
       "</div>"
      ]
     },
     "execution_count": 3,
     "metadata": {},
     "output_type": "execute_result"
    }
   ],
   "execution_count": 3
  },
  {
   "cell_type": "markdown",
   "metadata": {},
   "source": [
    "## Calculate the covariance matrix\n",
    "\n",
    "The next step is to calculate the covariance matrix for your normalized data. "
   ]
  },
  {
   "cell_type": "code",
   "metadata": {
    "ExecuteTime": {
     "end_time": "2024-09-05T17:10:30.457566Z",
     "start_time": "2024-09-05T17:10:30.381454Z"
    }
   },
   "source": [
    "cov_mat = data.cov()\n",
    "cov_mat"
   ],
   "outputs": [
    {
     "data": {
      "text/plain": [
       "              Bread     Burger       Milk     Oranges   Tomatoes\n",
       "Bread      6.284466  12.910968   5.719051    1.310375   7.285138\n",
       "Burger    12.910968  57.077115  17.507530   22.691877  36.294783\n",
       "Milk       5.719051  17.507530  48.305889   -0.275040  13.443478\n",
       "Oranges    1.310375  22.691877  -0.275040  202.756285  38.762411\n",
       "Tomatoes   7.285138  36.294783  13.443478   38.762411  57.800553"
      ],
      "text/html": [
       "<div>\n",
       "<style scoped>\n",
       "    .dataframe tbody tr th:only-of-type {\n",
       "        vertical-align: middle;\n",
       "    }\n",
       "\n",
       "    .dataframe tbody tr th {\n",
       "        vertical-align: top;\n",
       "    }\n",
       "\n",
       "    .dataframe thead th {\n",
       "        text-align: right;\n",
       "    }\n",
       "</style>\n",
       "<table border=\"1\" class=\"dataframe\">\n",
       "  <thead>\n",
       "    <tr style=\"text-align: right;\">\n",
       "      <th></th>\n",
       "      <th>Bread</th>\n",
       "      <th>Burger</th>\n",
       "      <th>Milk</th>\n",
       "      <th>Oranges</th>\n",
       "      <th>Tomatoes</th>\n",
       "    </tr>\n",
       "  </thead>\n",
       "  <tbody>\n",
       "    <tr>\n",
       "      <th>Bread</th>\n",
       "      <td>6.284466</td>\n",
       "      <td>12.910968</td>\n",
       "      <td>5.719051</td>\n",
       "      <td>1.310375</td>\n",
       "      <td>7.285138</td>\n",
       "    </tr>\n",
       "    <tr>\n",
       "      <th>Burger</th>\n",
       "      <td>12.910968</td>\n",
       "      <td>57.077115</td>\n",
       "      <td>17.507530</td>\n",
       "      <td>22.691877</td>\n",
       "      <td>36.294783</td>\n",
       "    </tr>\n",
       "    <tr>\n",
       "      <th>Milk</th>\n",
       "      <td>5.719051</td>\n",
       "      <td>17.507530</td>\n",
       "      <td>48.305889</td>\n",
       "      <td>-0.275040</td>\n",
       "      <td>13.443478</td>\n",
       "    </tr>\n",
       "    <tr>\n",
       "      <th>Oranges</th>\n",
       "      <td>1.310375</td>\n",
       "      <td>22.691877</td>\n",
       "      <td>-0.275040</td>\n",
       "      <td>202.756285</td>\n",
       "      <td>38.762411</td>\n",
       "    </tr>\n",
       "    <tr>\n",
       "      <th>Tomatoes</th>\n",
       "      <td>7.285138</td>\n",
       "      <td>36.294783</td>\n",
       "      <td>13.443478</td>\n",
       "      <td>38.762411</td>\n",
       "      <td>57.800553</td>\n",
       "    </tr>\n",
       "  </tbody>\n",
       "</table>\n",
       "</div>"
      ]
     },
     "execution_count": 4,
     "metadata": {},
     "output_type": "execute_result"
    }
   ],
   "execution_count": 4
  },
  {
   "cell_type": "markdown",
   "metadata": {},
   "source": [
    "## Calculate the eigenvectors\n",
    "\n",
    "Next, calculate the eigenvectors and eigenvalues for your covariance matrix. "
   ]
  },
  {
   "cell_type": "code",
   "metadata": {
    "ExecuteTime": {
     "end_time": "2024-09-05T17:11:22.533775Z",
     "start_time": "2024-09-05T17:11:22.523318Z"
    }
   },
   "source": [
    "import numpy as np\n",
    "eig_values, eig_vectors = np.linalg.eig(cov_mat)"
   ],
   "outputs": [],
   "execution_count": 5
  },
  {
   "cell_type": "markdown",
   "metadata": {},
   "source": [
    "## Sort the eigenvectors \n",
    "\n",
    "Great! Now that you have the eigenvectors and their associated eigenvalues, sort the eigenvectors based on their eigenvalues to determine primary components!"
   ]
  },
  {
   "cell_type": "code",
   "metadata": {
    "ExecuteTime": {
     "end_time": "2024-09-05T17:12:22.982094Z",
     "start_time": "2024-09-05T17:12:22.966707Z"
    }
   },
   "source": [
    "# Get the index values of the sorted eigenvalues\n",
    "e_indices = eig_values.argsort()[::-1]\n",
    "\n",
    "# Sort \n",
    "eigenvectors_sorted = eig_vectors[:,e_indices]\n",
    "eigenvectors_sorted"
   ],
   "outputs": [
    {
     "data": {
      "text/plain": [
       "array([[-0.02848905, -0.16532108,  0.02135748, -0.18972574, -0.96716354],\n",
       "       [-0.2001224 , -0.63218494,  0.25420475, -0.65862454,  0.24877074],\n",
       "       [-0.0416723 , -0.44215032, -0.88874949,  0.10765906,  0.03606094],\n",
       "       [-0.93885906,  0.31435473, -0.12135003, -0.06904699, -0.01521357],\n",
       "       [-0.27558389, -0.52791603,  0.36100184,  0.71684022, -0.03429221]])"
      ]
     },
     "execution_count": 7,
     "metadata": {},
     "output_type": "execute_result"
    }
   ],
   "execution_count": 7
  },
  {
   "cell_type": "markdown",
   "metadata": {},
   "source": [
    "## Reprojecting the data\n",
    "\n",
    "Finally, reproject the dataset using your eigenvectors. Reproject this dataset down to 2 dimensions."
   ]
  },
  {
   "cell_type": "code",
   "metadata": {
    "ExecuteTime": {
     "end_time": "2024-09-05T17:14:24.547835Z",
     "start_time": "2024-09-05T17:14:24.537610Z"
    }
   },
   "source": "eigenvectors_sorted.dot(data.T).T[:,:2]",
   "outputs": [
    {
     "data": {
      "text/plain": [
       "array([[ -70.17354115,  -88.26570764],\n",
       "       [ -80.0609052 ,  -81.54716285],\n",
       "       [ -93.57356437, -107.7299218 ],\n",
       "       [ -85.55401329, -107.95452024],\n",
       "       [ -83.3656104 , -101.22634166],\n",
       "       [ -79.25667865, -107.82836367],\n",
       "       [ -80.51476853, -108.77947557],\n",
       "       [ -76.2600054 , -110.08008403],\n",
       "       [ -86.56954427, -110.18265955],\n",
       "       [-101.57482065, -124.80438486],\n",
       "       [ -74.62006043, -101.05705438],\n",
       "       [ -74.96862114, -100.5077655 ],\n",
       "       [ -67.15863618,  -92.46655397],\n",
       "       [ -87.58351662, -107.25552067],\n",
       "       [ -83.98110093, -107.2187609 ],\n",
       "       [ -98.67092219, -114.46649426],\n",
       "       [ -92.79968651,  -95.49426233],\n",
       "       [ -85.13037052, -115.1110606 ],\n",
       "       [ -81.25248105, -112.57595988],\n",
       "       [ -65.1906068 ,  -95.84120327],\n",
       "       [ -73.35495424, -102.23038316],\n",
       "       [ -72.87194568,  -86.69371889],\n",
       "       [ -74.95153466,  -89.61495037]])"
      ]
     },
     "execution_count": 10,
     "metadata": {},
     "output_type": "execute_result"
    }
   ],
   "execution_count": 10
  },
  {
   "cell_type": "markdown",
   "metadata": {},
   "source": [
    "## Summary\n",
    "\n",
    "Well done! You've now coded PCA on your own using NumPy! With that, it's time to look at further applications of PCA."
   ]
  }
 ],
 "metadata": {
  "kernelspec": {
   "display_name": "Python 3",
   "language": "python",
   "name": "python3"
  },
  "language_info": {
   "codemirror_mode": {
    "name": "ipython",
    "version": 3
   },
   "file_extension": ".py",
   "mimetype": "text/x-python",
   "name": "python",
   "nbconvert_exporter": "python",
   "pygments_lexer": "ipython3",
   "version": "3.8.5"
  }
 },
 "nbformat": 4,
 "nbformat_minor": 2
}
